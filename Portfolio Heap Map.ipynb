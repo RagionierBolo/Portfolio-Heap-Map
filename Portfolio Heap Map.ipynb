{
 "cells": [
  {
   "cell_type": "markdown",
   "metadata": {},
   "source": [
    "# Porfolio Heap Map"
   ]
  },
  {
   "cell_type": "markdown",
   "metadata": {
    "notebookRunGroups": {
     "groupValue": "1"
    }
   },
   "source": [
    "## Setup"
   ]
  },
  {
   "cell_type": "code",
   "execution_count": null,
   "metadata": {},
   "outputs": [],
   "source": [
    "import yfinance as yf\n",
    "import matplotlib.pyplot as plt\n",
    "import ipywidgets as widgets\n",
    "import pandas as pd\n",
    "import numpy as np"
   ]
  },
  {
   "cell_type": "code",
   "execution_count": null,
   "metadata": {},
   "outputs": [],
   "source": [
    "def log_return_DF(tick:str,period_t:str) -> pd.DataFrame:\n",
    "    \"\"\"\n",
    "    \n",
    "    Parameters\n",
    "    ----------\n",
    "    tick : str\n",
    "        Ticker symbol\n",
    "    period_t : str\n",
    "        Valid periods: [1d, 5d, 1mo, 3mo, 6mo, 1y, 2y, 5y, 10y, ytd, max]\n",
    "\n",
    "    Returns\n",
    "    -------\n",
    "    pd.DataFrame:\n",
    "        The DataFrame contains the Log Returns and the Day\n",
    "\n",
    "    Description\n",
    "    -----------\n",
    "    Fuction that takes the parameters: stock ticker, the period of consideration.\n",
    "    And returns a DataFrame with the log returns\n",
    "\n",
    "    Examples\n",
    "    --------\n",
    "    >>> log_return_DF(\"TSLA\",\"1mo\")\n",
    "    \"\"\"\n",
    "\n",
    "    tik = yf.Ticker(tick)\n",
    "    Raw_data = tik.history(period=period_t)\n",
    "    Raw_data[f\"Returns {tick}\"] = np.log(Raw_data['Close'] / Raw_data['Close'].shift(1))\n",
    "    Raw_data.reset_index(inplace=True)\n",
    "    Raw_data['Day'] = Raw_data['Date'].apply(lambda x: x.date())\n",
    "    Data_returns= Raw_data[['Day',f\"Returns {tick}\"]]\n",
    "    Data_returns=Data_returns[1:]\n",
    "    \n",
    "    return Data_returns\n",
    "\n",
    "\n",
    "\n",
    "def logs_of_stocks(list_tickers: list,period:str) -> tuple:\n",
    "\n",
    "    \"\"\"\n",
    "    \n",
    "    Parameters\n",
    "    ----------\n",
    "    list_tickers : list\n",
    "        List of ticker symbols representing the portfolio.\n",
    "    period : str\n",
    "        Valid periods: [1d, 5d, 1mo, 3mo, 6mo, 1y, 2y, 5y, 10y, ytd, max].\n",
    "\n",
    "    Returns\n",
    "    -------\n",
    "    tuple:\n",
    "        (list_dataframes,list_lens)\n",
    "        [0] List of DataFrames having the Log Returns\n",
    "        [1] Lengths of the DataFrames\n",
    "\n",
    "\n",
    "    Description\n",
    "    -----------\n",
    "    Fuction that takes the parameters: list of stock ticker strings and the period of consideration.\n",
    "    Returns a tuple with a list of DataFrames and a list of the lenthgs of this DataFrames \n",
    "\n",
    "    Examples\n",
    "    --------\n",
    "    >>> logs_of_stocks([\"TSLA\",\"GM\"],\"1mo\")\n",
    "    \"\"\"\n",
    "\n",
    "    list_dataframes=[]\n",
    "    lens=[]\n",
    "    \n",
    "    for name in list_tickers:\n",
    "        single_log=log_return_DF(name,period)\n",
    "        list_dataframes.append(single_log)\n",
    "        lens.append(len(single_log))\n",
    "\n",
    "    return list_dataframes,lens\n",
    "\n",
    "\n",
    "\n",
    "def merger(return_tuple: tuple) -> pd.DataFrame:\n",
    "\n",
    "    \"\"\"\n",
    "    \n",
    "    Parameters\n",
    "    ----------\n",
    "    return_tuple : tuple\n",
    "        Tuple from the logs_of_stocks() function\n",
    "\n",
    "    Returns\n",
    "    -------\n",
    "    returns_DF: DataFrame\n",
    "        A DataFrame with all the returns of the portfolio.\n",
    "\n",
    "\n",
    "    Description\n",
    "    -----------\n",
    "    Fuction that takes as parameters the tuple from logs_of_stocks() function and mergers (inner)\n",
    "    all the DataFrames with the returns of the\n",
    "\n",
    "    \"\"\"\n",
    "\n",
    "    lens=return_tuple[1]\n",
    "    logs=return_tuple[0]\n",
    "    index_long=lens.index(max(lens))\n",
    "    logs[0], logs[index_long] = logs[index_long],logs[0]\n",
    "    returns_DF=logs[0]\n",
    "\n",
    "    for dfr in logs[1:]:\n",
    "        returns_DF = pd.merge(returns_DF,dfr,on=\"Day\",how=\"inner\")\n",
    "    \n",
    "    return returns_DF"
   ]
  },
  {
   "cell_type": "code",
   "execution_count": null,
   "metadata": {},
   "outputs": [],
   "source": [
    "period=widgets.Dropdown(\n",
    "    options=[\"1d\",\"5d\",\"1mo\",\"3mo\",\"6mo\",\"1y\",\"2y\",\"5y\",\"10y\",\"ytd\",\"max\"],\n",
    "    value=\"ytd\",\n",
    "    description='Period:',\n",
    ")\n",
    "List_Tickers = widgets.TagsInput(\n",
    "    value=['tsla', \"isp.mi\",\"SPY\",\"^VIX\",\"GC=F\"],\n",
    "    allow_duplicates=False\n",
    ")"
   ]
  },
  {
   "cell_type": "markdown",
   "metadata": {},
   "source": [
    "## Interaction"
   ]
  },
  {
   "cell_type": "code",
   "execution_count": null,
   "metadata": {},
   "outputs": [],
   "source": [
    "widgets.VBox([List_Tickers,period])"
   ]
  },
  {
   "cell_type": "markdown",
   "metadata": {
    "notebookRunGroups": {
     "groupValue": "1"
    }
   },
   "source": [
    "## Calculations"
   ]
  },
  {
   "cell_type": "code",
   "execution_count": null,
   "metadata": {
    "notebookRunGroups": {
     "groupValue": ""
    }
   },
   "outputs": [],
   "source": [
    "pot_log=logs_of_stocks(List_Tickers.value,period.value)\n",
    "raw_ret=merger(pot_log)\n",
    "clean_ret=raw_ret.reset_index(drop=True)\n",
    "dataframe_returns=clean_ret.corr()"
   ]
  },
  {
   "cell_type": "markdown",
   "metadata": {
    "notebookRunGroups": {
     "groupValue": "2"
    }
   },
   "source": [
    "## Plot"
   ]
  },
  {
   "cell_type": "code",
   "execution_count": null,
   "metadata": {
    "notebookRunGroups": {
     "groupValue": ""
    }
   },
   "outputs": [],
   "source": [
    "%matplotlib widget\n",
    "\n",
    "plt.imshow(dataframe_returns, cmap='cool', interpolation='nearest')\n",
    "plt.xticks(np.arange(len(dataframe_returns.columns)), dataframe_returns.columns,rotation='vertical')\n",
    "plt.yticks(np.arange(len(dataframe_returns.columns)), dataframe_returns.columns)\n",
    "\n",
    "plt.gca().invert_xaxis()\n",
    "plt.colorbar()\n",
    "plt.title(\"Portfolio Return Correlations\")\n",
    "\n",
    "plt.show()"
   ]
  }
 ],
 "metadata": {
  "kernelspec": {
   "display_name": "Python 3",
   "language": "python",
   "name": "python3"
  },
  "language_info": {
   "codemirror_mode": {
    "name": "ipython",
    "version": 3
   },
   "file_extension": ".py",
   "mimetype": "text/x-python",
   "name": "python",
   "nbconvert_exporter": "python",
   "pygments_lexer": "ipython3",
   "version": "3.10.11"
  },
  "orig_nbformat": 4
 },
 "nbformat": 4,
 "nbformat_minor": 2
}
